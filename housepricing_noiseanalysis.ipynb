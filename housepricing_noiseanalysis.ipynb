{
  "nbformat": 4,
  "nbformat_minor": 0,
  "metadata": {
    "colab": {
      "provenance": [],
      "toc_visible": true,
      "include_colab_link": true
    },
    "kernelspec": {
      "name": "python3",
      "display_name": "Python 3"
    },
    "language_info": {
      "name": "python"
    }
  },
  "cells": [
    {
      "cell_type": "markdown",
      "metadata": {
        "id": "view-in-github",
        "colab_type": "text"
      },
      "source": [
        "<a href=\"https://colab.research.google.com/github/Isaac-Gregory/House-Pricing-SWD/blob/main/housepricing_noiseanalysis.ipynb\" target=\"_parent\"><img src=\"https://colab.research.google.com/assets/colab-badge.svg\" alt=\"Open In Colab\"/></a>"
      ]
    },
    {
      "cell_type": "markdown",
      "source": [
        "## Imports and Dataset"
      ],
      "metadata": {
        "id": "NlA4ozYr5Fzk"
      }
    },
    {
      "cell_type": "code",
      "source": [
        "from google.colab import files\n",
        "import pandas as pd\n",
        "from sklearn.preprocessing import LabelEncoder\n",
        "import numpy as np\n",
        "import matplotlib.pyplot as plt\n",
        "import copy as cp\n",
        "from scipy.stats import f_oneway, chi2_contingency\n",
        "from sklearn.preprocessing import StandardScaler"
      ],
      "metadata": {
        "id": "La8Xd4N8l0sb"
      },
      "execution_count": 252,
      "outputs": []
    },
    {
      "cell_type": "code",
      "source": [
        "# Replace the below URL with the 'raw' link of your GitHub CSV file\n",
        "url = \"https://raw.githubusercontent.com/Isaac-Gregory/House-Pricing-SWD/refs/heads/main/train.csv\"\n",
        "\n",
        "# Read the CSV file into a pandas DataFrame\n",
        "data = pd.read_csv(url)\n",
        "\n",
        "data.drop(['Id'], axis=1, inplace=True)\n",
        "data.head()"
      ],
      "metadata": {
        "colab": {
          "base_uri": "https://localhost:8080/",
          "height": 0
        },
        "id": "N4USss2csKz1",
        "outputId": "05807021-71c2-4fe0-fa97-e3481239df19"
      },
      "execution_count": 253,
      "outputs": [
        {
          "output_type": "execute_result",
          "data": {
            "text/plain": [
              "   MSSubClass MSZoning  LotFrontage  LotArea Street Alley LotShape  \\\n",
              "0          60       RL         65.0     8450   Pave   NaN      Reg   \n",
              "1          20       RL         80.0     9600   Pave   NaN      Reg   \n",
              "2          60       RL         68.0    11250   Pave   NaN      IR1   \n",
              "3          70       RL         60.0     9550   Pave   NaN      IR1   \n",
              "4          60       RL         84.0    14260   Pave   NaN      IR1   \n",
              "\n",
              "  LandContour Utilities LotConfig  ... PoolArea PoolQC Fence MiscFeature  \\\n",
              "0         Lvl    AllPub    Inside  ...        0    NaN   NaN         NaN   \n",
              "1         Lvl    AllPub       FR2  ...        0    NaN   NaN         NaN   \n",
              "2         Lvl    AllPub    Inside  ...        0    NaN   NaN         NaN   \n",
              "3         Lvl    AllPub    Corner  ...        0    NaN   NaN         NaN   \n",
              "4         Lvl    AllPub       FR2  ...        0    NaN   NaN         NaN   \n",
              "\n",
              "  MiscVal MoSold  YrSold  SaleType  SaleCondition  SalePrice  \n",
              "0       0      2    2008        WD         Normal     208500  \n",
              "1       0      5    2007        WD         Normal     181500  \n",
              "2       0      9    2008        WD         Normal     223500  \n",
              "3       0      2    2006        WD        Abnorml     140000  \n",
              "4       0     12    2008        WD         Normal     250000  \n",
              "\n",
              "[5 rows x 80 columns]"
            ],
            "text/html": [
              "\n",
              "  <div id=\"df-1d47eea5-48b1-4933-b1df-f050514ccf8d\" class=\"colab-df-container\">\n",
              "    <div>\n",
              "<style scoped>\n",
              "    .dataframe tbody tr th:only-of-type {\n",
              "        vertical-align: middle;\n",
              "    }\n",
              "\n",
              "    .dataframe tbody tr th {\n",
              "        vertical-align: top;\n",
              "    }\n",
              "\n",
              "    .dataframe thead th {\n",
              "        text-align: right;\n",
              "    }\n",
              "</style>\n",
              "<table border=\"1\" class=\"dataframe\">\n",
              "  <thead>\n",
              "    <tr style=\"text-align: right;\">\n",
              "      <th></th>\n",
              "      <th>MSSubClass</th>\n",
              "      <th>MSZoning</th>\n",
              "      <th>LotFrontage</th>\n",
              "      <th>LotArea</th>\n",
              "      <th>Street</th>\n",
              "      <th>Alley</th>\n",
              "      <th>LotShape</th>\n",
              "      <th>LandContour</th>\n",
              "      <th>Utilities</th>\n",
              "      <th>LotConfig</th>\n",
              "      <th>...</th>\n",
              "      <th>PoolArea</th>\n",
              "      <th>PoolQC</th>\n",
              "      <th>Fence</th>\n",
              "      <th>MiscFeature</th>\n",
              "      <th>MiscVal</th>\n",
              "      <th>MoSold</th>\n",
              "      <th>YrSold</th>\n",
              "      <th>SaleType</th>\n",
              "      <th>SaleCondition</th>\n",
              "      <th>SalePrice</th>\n",
              "    </tr>\n",
              "  </thead>\n",
              "  <tbody>\n",
              "    <tr>\n",
              "      <th>0</th>\n",
              "      <td>60</td>\n",
              "      <td>RL</td>\n",
              "      <td>65.0</td>\n",
              "      <td>8450</td>\n",
              "      <td>Pave</td>\n",
              "      <td>NaN</td>\n",
              "      <td>Reg</td>\n",
              "      <td>Lvl</td>\n",
              "      <td>AllPub</td>\n",
              "      <td>Inside</td>\n",
              "      <td>...</td>\n",
              "      <td>0</td>\n",
              "      <td>NaN</td>\n",
              "      <td>NaN</td>\n",
              "      <td>NaN</td>\n",
              "      <td>0</td>\n",
              "      <td>2</td>\n",
              "      <td>2008</td>\n",
              "      <td>WD</td>\n",
              "      <td>Normal</td>\n",
              "      <td>208500</td>\n",
              "    </tr>\n",
              "    <tr>\n",
              "      <th>1</th>\n",
              "      <td>20</td>\n",
              "      <td>RL</td>\n",
              "      <td>80.0</td>\n",
              "      <td>9600</td>\n",
              "      <td>Pave</td>\n",
              "      <td>NaN</td>\n",
              "      <td>Reg</td>\n",
              "      <td>Lvl</td>\n",
              "      <td>AllPub</td>\n",
              "      <td>FR2</td>\n",
              "      <td>...</td>\n",
              "      <td>0</td>\n",
              "      <td>NaN</td>\n",
              "      <td>NaN</td>\n",
              "      <td>NaN</td>\n",
              "      <td>0</td>\n",
              "      <td>5</td>\n",
              "      <td>2007</td>\n",
              "      <td>WD</td>\n",
              "      <td>Normal</td>\n",
              "      <td>181500</td>\n",
              "    </tr>\n",
              "    <tr>\n",
              "      <th>2</th>\n",
              "      <td>60</td>\n",
              "      <td>RL</td>\n",
              "      <td>68.0</td>\n",
              "      <td>11250</td>\n",
              "      <td>Pave</td>\n",
              "      <td>NaN</td>\n",
              "      <td>IR1</td>\n",
              "      <td>Lvl</td>\n",
              "      <td>AllPub</td>\n",
              "      <td>Inside</td>\n",
              "      <td>...</td>\n",
              "      <td>0</td>\n",
              "      <td>NaN</td>\n",
              "      <td>NaN</td>\n",
              "      <td>NaN</td>\n",
              "      <td>0</td>\n",
              "      <td>9</td>\n",
              "      <td>2008</td>\n",
              "      <td>WD</td>\n",
              "      <td>Normal</td>\n",
              "      <td>223500</td>\n",
              "    </tr>\n",
              "    <tr>\n",
              "      <th>3</th>\n",
              "      <td>70</td>\n",
              "      <td>RL</td>\n",
              "      <td>60.0</td>\n",
              "      <td>9550</td>\n",
              "      <td>Pave</td>\n",
              "      <td>NaN</td>\n",
              "      <td>IR1</td>\n",
              "      <td>Lvl</td>\n",
              "      <td>AllPub</td>\n",
              "      <td>Corner</td>\n",
              "      <td>...</td>\n",
              "      <td>0</td>\n",
              "      <td>NaN</td>\n",
              "      <td>NaN</td>\n",
              "      <td>NaN</td>\n",
              "      <td>0</td>\n",
              "      <td>2</td>\n",
              "      <td>2006</td>\n",
              "      <td>WD</td>\n",
              "      <td>Abnorml</td>\n",
              "      <td>140000</td>\n",
              "    </tr>\n",
              "    <tr>\n",
              "      <th>4</th>\n",
              "      <td>60</td>\n",
              "      <td>RL</td>\n",
              "      <td>84.0</td>\n",
              "      <td>14260</td>\n",
              "      <td>Pave</td>\n",
              "      <td>NaN</td>\n",
              "      <td>IR1</td>\n",
              "      <td>Lvl</td>\n",
              "      <td>AllPub</td>\n",
              "      <td>FR2</td>\n",
              "      <td>...</td>\n",
              "      <td>0</td>\n",
              "      <td>NaN</td>\n",
              "      <td>NaN</td>\n",
              "      <td>NaN</td>\n",
              "      <td>0</td>\n",
              "      <td>12</td>\n",
              "      <td>2008</td>\n",
              "      <td>WD</td>\n",
              "      <td>Normal</td>\n",
              "      <td>250000</td>\n",
              "    </tr>\n",
              "  </tbody>\n",
              "</table>\n",
              "<p>5 rows × 80 columns</p>\n",
              "</div>\n",
              "    <div class=\"colab-df-buttons\">\n",
              "\n",
              "  <div class=\"colab-df-container\">\n",
              "    <button class=\"colab-df-convert\" onclick=\"convertToInteractive('df-1d47eea5-48b1-4933-b1df-f050514ccf8d')\"\n",
              "            title=\"Convert this dataframe to an interactive table.\"\n",
              "            style=\"display:none;\">\n",
              "\n",
              "  <svg xmlns=\"http://www.w3.org/2000/svg\" height=\"24px\" viewBox=\"0 -960 960 960\">\n",
              "    <path d=\"M120-120v-720h720v720H120Zm60-500h600v-160H180v160Zm220 220h160v-160H400v160Zm0 220h160v-160H400v160ZM180-400h160v-160H180v160Zm440 0h160v-160H620v160ZM180-180h160v-160H180v160Zm440 0h160v-160H620v160Z\"/>\n",
              "  </svg>\n",
              "    </button>\n",
              "\n",
              "  <style>\n",
              "    .colab-df-container {\n",
              "      display:flex;\n",
              "      gap: 12px;\n",
              "    }\n",
              "\n",
              "    .colab-df-convert {\n",
              "      background-color: #E8F0FE;\n",
              "      border: none;\n",
              "      border-radius: 50%;\n",
              "      cursor: pointer;\n",
              "      display: none;\n",
              "      fill: #1967D2;\n",
              "      height: 32px;\n",
              "      padding: 0 0 0 0;\n",
              "      width: 32px;\n",
              "    }\n",
              "\n",
              "    .colab-df-convert:hover {\n",
              "      background-color: #E2EBFA;\n",
              "      box-shadow: 0px 1px 2px rgba(60, 64, 67, 0.3), 0px 1px 3px 1px rgba(60, 64, 67, 0.15);\n",
              "      fill: #174EA6;\n",
              "    }\n",
              "\n",
              "    .colab-df-buttons div {\n",
              "      margin-bottom: 4px;\n",
              "    }\n",
              "\n",
              "    [theme=dark] .colab-df-convert {\n",
              "      background-color: #3B4455;\n",
              "      fill: #D2E3FC;\n",
              "    }\n",
              "\n",
              "    [theme=dark] .colab-df-convert:hover {\n",
              "      background-color: #434B5C;\n",
              "      box-shadow: 0px 1px 3px 1px rgba(0, 0, 0, 0.15);\n",
              "      filter: drop-shadow(0px 1px 2px rgba(0, 0, 0, 0.3));\n",
              "      fill: #FFFFFF;\n",
              "    }\n",
              "  </style>\n",
              "\n",
              "    <script>\n",
              "      const buttonEl =\n",
              "        document.querySelector('#df-1d47eea5-48b1-4933-b1df-f050514ccf8d button.colab-df-convert');\n",
              "      buttonEl.style.display =\n",
              "        google.colab.kernel.accessAllowed ? 'block' : 'none';\n",
              "\n",
              "      async function convertToInteractive(key) {\n",
              "        const element = document.querySelector('#df-1d47eea5-48b1-4933-b1df-f050514ccf8d');\n",
              "        const dataTable =\n",
              "          await google.colab.kernel.invokeFunction('convertToInteractive',\n",
              "                                                    [key], {});\n",
              "        if (!dataTable) return;\n",
              "\n",
              "        const docLinkHtml = 'Like what you see? Visit the ' +\n",
              "          '<a target=\"_blank\" href=https://colab.research.google.com/notebooks/data_table.ipynb>data table notebook</a>'\n",
              "          + ' to learn more about interactive tables.';\n",
              "        element.innerHTML = '';\n",
              "        dataTable['output_type'] = 'display_data';\n",
              "        await google.colab.output.renderOutput(dataTable, element);\n",
              "        const docLink = document.createElement('div');\n",
              "        docLink.innerHTML = docLinkHtml;\n",
              "        element.appendChild(docLink);\n",
              "      }\n",
              "    </script>\n",
              "  </div>\n",
              "\n",
              "\n",
              "<div id=\"df-e5e59ebc-b24e-41d1-8f77-5acf57053cda\">\n",
              "  <button class=\"colab-df-quickchart\" onclick=\"quickchart('df-e5e59ebc-b24e-41d1-8f77-5acf57053cda')\"\n",
              "            title=\"Suggest charts\"\n",
              "            style=\"display:none;\">\n",
              "\n",
              "<svg xmlns=\"http://www.w3.org/2000/svg\" height=\"24px\"viewBox=\"0 0 24 24\"\n",
              "     width=\"24px\">\n",
              "    <g>\n",
              "        <path d=\"M19 3H5c-1.1 0-2 .9-2 2v14c0 1.1.9 2 2 2h14c1.1 0 2-.9 2-2V5c0-1.1-.9-2-2-2zM9 17H7v-7h2v7zm4 0h-2V7h2v10zm4 0h-2v-4h2v4z\"/>\n",
              "    </g>\n",
              "</svg>\n",
              "  </button>\n",
              "\n",
              "<style>\n",
              "  .colab-df-quickchart {\n",
              "      --bg-color: #E8F0FE;\n",
              "      --fill-color: #1967D2;\n",
              "      --hover-bg-color: #E2EBFA;\n",
              "      --hover-fill-color: #174EA6;\n",
              "      --disabled-fill-color: #AAA;\n",
              "      --disabled-bg-color: #DDD;\n",
              "  }\n",
              "\n",
              "  [theme=dark] .colab-df-quickchart {\n",
              "      --bg-color: #3B4455;\n",
              "      --fill-color: #D2E3FC;\n",
              "      --hover-bg-color: #434B5C;\n",
              "      --hover-fill-color: #FFFFFF;\n",
              "      --disabled-bg-color: #3B4455;\n",
              "      --disabled-fill-color: #666;\n",
              "  }\n",
              "\n",
              "  .colab-df-quickchart {\n",
              "    background-color: var(--bg-color);\n",
              "    border: none;\n",
              "    border-radius: 50%;\n",
              "    cursor: pointer;\n",
              "    display: none;\n",
              "    fill: var(--fill-color);\n",
              "    height: 32px;\n",
              "    padding: 0;\n",
              "    width: 32px;\n",
              "  }\n",
              "\n",
              "  .colab-df-quickchart:hover {\n",
              "    background-color: var(--hover-bg-color);\n",
              "    box-shadow: 0 1px 2px rgba(60, 64, 67, 0.3), 0 1px 3px 1px rgba(60, 64, 67, 0.15);\n",
              "    fill: var(--button-hover-fill-color);\n",
              "  }\n",
              "\n",
              "  .colab-df-quickchart-complete:disabled,\n",
              "  .colab-df-quickchart-complete:disabled:hover {\n",
              "    background-color: var(--disabled-bg-color);\n",
              "    fill: var(--disabled-fill-color);\n",
              "    box-shadow: none;\n",
              "  }\n",
              "\n",
              "  .colab-df-spinner {\n",
              "    border: 2px solid var(--fill-color);\n",
              "    border-color: transparent;\n",
              "    border-bottom-color: var(--fill-color);\n",
              "    animation:\n",
              "      spin 1s steps(1) infinite;\n",
              "  }\n",
              "\n",
              "  @keyframes spin {\n",
              "    0% {\n",
              "      border-color: transparent;\n",
              "      border-bottom-color: var(--fill-color);\n",
              "      border-left-color: var(--fill-color);\n",
              "    }\n",
              "    20% {\n",
              "      border-color: transparent;\n",
              "      border-left-color: var(--fill-color);\n",
              "      border-top-color: var(--fill-color);\n",
              "    }\n",
              "    30% {\n",
              "      border-color: transparent;\n",
              "      border-left-color: var(--fill-color);\n",
              "      border-top-color: var(--fill-color);\n",
              "      border-right-color: var(--fill-color);\n",
              "    }\n",
              "    40% {\n",
              "      border-color: transparent;\n",
              "      border-right-color: var(--fill-color);\n",
              "      border-top-color: var(--fill-color);\n",
              "    }\n",
              "    60% {\n",
              "      border-color: transparent;\n",
              "      border-right-color: var(--fill-color);\n",
              "    }\n",
              "    80% {\n",
              "      border-color: transparent;\n",
              "      border-right-color: var(--fill-color);\n",
              "      border-bottom-color: var(--fill-color);\n",
              "    }\n",
              "    90% {\n",
              "      border-color: transparent;\n",
              "      border-bottom-color: var(--fill-color);\n",
              "    }\n",
              "  }\n",
              "</style>\n",
              "\n",
              "  <script>\n",
              "    async function quickchart(key) {\n",
              "      const quickchartButtonEl =\n",
              "        document.querySelector('#' + key + ' button');\n",
              "      quickchartButtonEl.disabled = true;  // To prevent multiple clicks.\n",
              "      quickchartButtonEl.classList.add('colab-df-spinner');\n",
              "      try {\n",
              "        const charts = await google.colab.kernel.invokeFunction(\n",
              "            'suggestCharts', [key], {});\n",
              "      } catch (error) {\n",
              "        console.error('Error during call to suggestCharts:', error);\n",
              "      }\n",
              "      quickchartButtonEl.classList.remove('colab-df-spinner');\n",
              "      quickchartButtonEl.classList.add('colab-df-quickchart-complete');\n",
              "    }\n",
              "    (() => {\n",
              "      let quickchartButtonEl =\n",
              "        document.querySelector('#df-e5e59ebc-b24e-41d1-8f77-5acf57053cda button');\n",
              "      quickchartButtonEl.style.display =\n",
              "        google.colab.kernel.accessAllowed ? 'block' : 'none';\n",
              "    })();\n",
              "  </script>\n",
              "</div>\n",
              "\n",
              "    </div>\n",
              "  </div>\n"
            ],
            "application/vnd.google.colaboratory.intrinsic+json": {
              "type": "dataframe",
              "variable_name": "data"
            }
          },
          "metadata": {},
          "execution_count": 253
        }
      ]
    },
    {
      "cell_type": "code",
      "source": [
        "# Split numerical from categorical features\n",
        "X_train = data.drop(['SalePrice'], axis=1)\n",
        "cat_cols = X_train.select_dtypes(include=['object']).columns.tolist()\n",
        "num_cols = X_train.select_dtypes(include=['number']).columns.tolist()\n",
        "print(len(cat_cols), len(num_cols))"
      ],
      "metadata": {
        "colab": {
          "base_uri": "https://localhost:8080/"
        },
        "id": "GTqE3reb-3yx",
        "outputId": "41b5c0e8-1b10-47d0-fbd7-a0d891fdb455"
      },
      "execution_count": 254,
      "outputs": [
        {
          "output_type": "stream",
          "name": "stdout",
          "text": [
            "43 36\n"
          ]
        }
      ]
    },
    {
      "cell_type": "markdown",
      "source": [
        "## Feature Analysis"
      ],
      "metadata": {
        "id": "SnQl90lV-s4I"
      }
    },
    {
      "cell_type": "markdown",
      "source": [
        "### Individual Feature Analysis"
      ],
      "metadata": {
        "id": "H1cgLPRw5MnB"
      }
    },
    {
      "cell_type": "code",
      "source": [
        "nan_cols = {}\n",
        "\n",
        "# Printing all features with NaN values\n",
        "for col, i in data.isnull().sum().items():\n",
        "  if i > 0:\n",
        "    print(col, i)\n",
        "    nan_cols[col] = i\n",
        "\n",
        "# Investigating NaN values in numerical columns\n",
        "print(\"---------------------------\")\n",
        "for col in nan_cols:\n",
        "  if col in num_cols:\n",
        "    print(col, nan_cols[col])"
      ],
      "metadata": {
        "colab": {
          "base_uri": "https://localhost:8080/"
        },
        "id": "v0PU4TiU33ib",
        "outputId": "1ebcb8da-07b2-4b57-d4e9-9c87dae6f2ae"
      },
      "execution_count": 255,
      "outputs": [
        {
          "output_type": "stream",
          "name": "stdout",
          "text": [
            "LotFrontage 259\n",
            "Alley 1369\n",
            "MasVnrType 872\n",
            "MasVnrArea 8\n",
            "BsmtQual 37\n",
            "BsmtCond 37\n",
            "BsmtExposure 38\n",
            "BsmtFinType1 37\n",
            "BsmtFinType2 38\n",
            "Electrical 1\n",
            "FireplaceQu 690\n",
            "GarageType 81\n",
            "GarageYrBlt 81\n",
            "GarageFinish 81\n",
            "GarageQual 81\n",
            "GarageCond 81\n",
            "PoolQC 1453\n",
            "Fence 1179\n",
            "MiscFeature 1406\n",
            "---------------------------\n",
            "LotFrontage 259\n",
            "MasVnrArea 8\n",
            "GarageYrBlt 81\n"
          ]
        }
      ]
    },
    {
      "cell_type": "markdown",
      "source": [
        "**The following is the analysis of the outputted features:**\n",
        "\n",
        "LotFrontage 259 - May not have street connected to property (should just be set to 0 for NaN values)\n",
        "\n",
        "Alley 1369 - May not have alley access\n",
        "\n",
        "MasVnrType 872 - No veneer\n",
        "\n",
        "MasVnrArea 8 - ???? (should probably set NaN values to 0)\n",
        "\n",
        "NO BASEMENT:\n",
        "BsmtQual 37\n",
        "BsmtCond 37\n",
        "BsmtExposure 38\n",
        "BsmtFinType1 37\n",
        "BsmtFinType2 38\n",
        "\n",
        "Electrical 1 - ????\n",
        "\n",
        "FireplaceQu 690 - No fireplace\n",
        "\n",
        "NO GARAGE:\n",
        "GarageType 81\n",
        "GarageYrBlt 81\n",
        "GarageFinish 81\n",
        "GarageQual 81\n",
        "GarageCond 81\n",
        "\n",
        "PoolQC 1453 - No Pool\n",
        "\n",
        "Fence 1179 - No fence\n",
        "\n",
        "MiscFeature 1406 - No miscellaneous (high amount, but potentially highly predictive)"
      ],
      "metadata": {
        "id": "fZVqYpra8mjb"
      }
    },
    {
      "cell_type": "code",
      "source": [
        "# Replacing numerical NaNs with zeros\n",
        "data['LotFrontage'].fillna(0, inplace=True)\n",
        "data['MasVnrArea'].fillna(0, inplace=True)\n",
        "\n",
        "# Since NaNs have a meaning in this dataset, we will make them a string part of the feature\n",
        "# Convert all NaN in cat_cols to strings\n",
        "for col in cat_cols:\n",
        "  data[col].fillna('N/A', inplace=True)"
      ],
      "metadata": {
        "id": "5s0o113PZxI-"
      },
      "execution_count": 256,
      "outputs": []
    },
    {
      "cell_type": "markdown",
      "source": [
        "### Categorical Class Distribution Analysis"
      ],
      "metadata": {
        "id": "DId9DAiZ-c0-"
      }
    },
    {
      "cell_type": "code",
      "source": [
        "# for col in cat_cols:\n",
        "#   plt.bar(data[col].value_counts().index, data[col].value_counts())\n",
        "#   plt.title(col)\n",
        "#   plt.show()"
      ],
      "metadata": {
        "id": "pZqJry2s8xie"
      },
      "execution_count": 257,
      "outputs": []
    },
    {
      "cell_type": "markdown",
      "source": [
        "**Analysis of the above distributions:**\n",
        "\n",
        "Neighborhoods, Condition1, Condition2 are reliant on local (Iowa) information. Should be removed prior to final model.\n",
        "\n",
        "Utilities could have been useful, but has too uneven of a distribution."
      ],
      "metadata": {
        "id": "OVLc5c1xAkhU"
      }
    },
    {
      "cell_type": "code",
      "source": [
        "# # Dropping features dependent on this specific dataset (i.e. not generalizable)\n",
        "# data.drop(['Neighborhood', 'Condition1', 'Condition2', 'Utilities', 'YearBuilt', 'YearRemodAdd', 'GarageYrBlt', 'YrSold'], axis=1, inplace=True)\n",
        "\n",
        "# # Resplitting numerical from categorical features\n",
        "# X_train = data.drop(['SalePrice'], axis=1)\n",
        "# cat_cols = X_train.select_dtypes(include=['object']).columns.tolist()\n",
        "# num_cols = X_train.select_dtypes(include=['number']).columns.tolist()"
      ],
      "metadata": {
        "id": "z-1TVrUJOBsn"
      },
      "execution_count": 258,
      "outputs": []
    },
    {
      "cell_type": "markdown",
      "source": [
        "### Numerical Noisy Feature Analysis"
      ],
      "metadata": {
        "id": "rMvrSFAB5Q9F"
      }
    },
    {
      "cell_type": "code",
      "source": [
        "# prompt: remove SalesPrice from X_train adn save it in y_train,split categorical and numerical feature from X_train data. now find correlation of all features in numerical data as compared to y_train, from x_train remove all features with low correlation from X_train\n",
        "numerical_features = num_cols\n",
        "\n",
        "# Separate labels from samples\n",
        "y_train = data['SalePrice']\n",
        "\n",
        "# Find and graph correlation between all features and the labels\n",
        "targ_corr_num = {}\n",
        "for feature in numerical_features:\n",
        "  # Setting zeros in feature to NaN\n",
        "  updated_data = cp.deepcopy(data[feature].replace(0, np.nan))\n",
        "\n",
        "  # Calculate correlation without zeros\n",
        "  pearson_woz = updated_data.corr(y_train)\n",
        "  spearman_woz = updated_data.corr(y_train, method='spearman')\n",
        "\n",
        "  # Calculate correlation with zeros\n",
        "  pearson_wz = data[feature].corr(y_train)\n",
        "  spearman_wz = data[feature].corr(y_train, method='spearman')\n",
        "\n",
        "  # Save correlation into array\n",
        "  targ_corr_num[feature] = (pearson_wz,spearman_wz, pearson_woz, spearman_woz)\n",
        "\n",
        "# Observe features and remove using threshold on array\n",
        "noisy_numerical_strong = []\n",
        "noisy_numerical_weak = []\n",
        "for feature in targ_corr_num:\n",
        "  with_zero = False\n",
        "  without_zero = False\n",
        "\n",
        "  # Determining impact of inclusion/exclusion of zeros\n",
        "  if(abs(targ_corr_num[feature][0]) < 0.3 and abs(targ_corr_num[feature][1]) < 0.3):\n",
        "    with_zero = True\n",
        "  if(abs(targ_corr_num[feature][2]) < 0.3 and abs(targ_corr_num[feature][3]) < 0.3):\n",
        "    without_zero = True\n",
        "\n",
        "  # Separating features by strong or weak impact of zeros\n",
        "  if with_zero and without_zero:\n",
        "    noisy_numerical_strong.append(feature)\n",
        "  elif (not with_zero and without_zero) or (with_zero and not without_zero):\n",
        "    noisy_numerical_weak.append(feature)\n",
        "\n",
        "# Printing strong and weak noisy features\n",
        "for feature in noisy_numerical_strong:\n",
        "  print(feature, targ_corr_num[feature])\n",
        "print(\"-------------------------------------------------------------------\")\n",
        "for feature in noisy_numerical_weak:\n",
        "  print(feature, targ_corr_num[feature])\n",
        "\n",
        "# Setting only to strong noise for now\n",
        "noisy_numerical = noisy_numerical_strong\n",
        "\n",
        "print(noisy_numerical)"
      ],
      "metadata": {
        "id": "jPnFYrhgdzHZ",
        "colab": {
          "base_uri": "https://localhost:8080/"
        },
        "outputId": "3d4ca8f6-e2a9-448c-8a62-a35f322277e8"
      },
      "execution_count": 259,
      "outputs": [
        {
          "output_type": "stream",
          "name": "stdout",
          "text": [
            "MSSubClass (-0.08428413512659531, 0.007192252911733476, -0.08428413512659531, 0.007192252911733476)\n",
            "OverallCond (-0.07785589404867803, -0.12932494660061317, -0.07785589404867803, -0.12932494660061317)\n",
            "BsmtFinSF2 (-0.011378121450215125, -0.03880613204589418, 0.19895609430836594, 0.11843388567766258)\n",
            "BsmtUnfSF (0.21447910554696892, 0.185196629420762, 0.1692610004951418, 0.11282241442039748)\n",
            "BsmtFullBath (0.22712223313149382, 0.22512486719612368, 0.01143916334040866, 0.024792357595010216)\n",
            "BsmtHalfBath (-0.016844154297359016, -0.012188876310787316, -0.028834567185481722, -0.016703554806725977)\n",
            "BedroomAbvGr (0.16821315430073988, 0.23490671789027862, 0.18093669310848812, 0.24029795563186981)\n",
            "KitchenAbvGr (-0.13590737084214122, -0.1648257549850205, -0.1392006921778579, -0.16924325951926172)\n",
            "EnclosedPorch (-0.12857795792595653, -0.2183936205521982, 0.24127883630117508, 0.24740585729184555)\n",
            "3SsnPorch (0.04458366533574846, 0.06544021620062833, 0.06393243256889079, 0.2291441132422282)\n",
            "MiscVal (-0.02118957964030325, -0.0627270024962966, 0.08896338917298922, 0.15458686602901253)\n",
            "MoSold (0.046432245223819384, 0.06943224370457042, 0.046432245223819384, 0.06943224370457042)\n",
            "YrSold (-0.028922585168730378, -0.029899134912615286, -0.028922585168730378, -0.029899134912615286)\n",
            "-------------------------------------------------------------------\n",
            "LotFrontage (0.2096239447994838, 0.23849611297908194, 0.35179909657067804, 0.4090755179546496)\n",
            "LowQualFinSF (-0.02560613000067959, -0.06771915407896568, 0.30007501655501334, 0.10778447057412376)\n",
            "HalfBath (0.2841076755947831, 0.34300754918568294, -0.08439171127179895, -0.09943111283268087)\n",
            "Fireplaces (0.46692883675152724, 0.5192474498367013, 0.12166058421363923, 0.07482399463375336)\n",
            "WoodDeckSF (0.3244134445681294, 0.35380160795878884, 0.1937060123752066, 0.20679337134940587)\n",
            "OpenPorchSF (0.3158562271160555, 0.47756066228252647, 0.08645298857147718, 0.1592807444169871)\n",
            "ScreenPorch (0.11144657114291105, 0.1000697202012266, 0.2554300795487841, 0.31540170391892247)\n",
            "PoolArea (0.09240354949187321, 0.058452996689891755, -0.014091521506356936, 0.3571428571428572)\n",
            "['MSSubClass', 'OverallCond', 'BsmtFinSF2', 'BsmtUnfSF', 'BsmtFullBath', 'BsmtHalfBath', 'BedroomAbvGr', 'KitchenAbvGr', 'EnclosedPorch', '3SsnPorch', 'MiscVal', 'MoSold', 'YrSold']\n"
          ]
        }
      ]
    },
    {
      "cell_type": "code",
      "source": [
        "# for col in numerical_features:\n",
        "#   if (col not in noisy_numerical_strong) and (col not in noisy_numerical_weak):\n",
        "#     plt.scatter(data[col], y_train)\n",
        "#     plt.title(col)\n",
        "#     plt.show()\n",
        "# print(\"-------------------------------------------------------------------\")\n",
        "# for col in noisy_numerical_strong:\n",
        "#   plt.scatter(data[col], y_train)\n",
        "#   plt.title(col)\n",
        "#   plt.show()\n",
        "# print(\"-------------------------------------------------------------------\")\n",
        "# for col in noisy_numerical_weak:\n",
        "#   plt.scatter(data[col], y_train)\n",
        "#   plt.title(col)\n",
        "#   plt.show()"
      ],
      "metadata": {
        "id": "Cod4EEFACBfo"
      },
      "execution_count": 260,
      "outputs": []
    },
    {
      "cell_type": "markdown",
      "source": [
        "**Analysis of the above**\n",
        "\n",
        "Halfbath may not be correctly indicative of real-world since higher half-bath count would typically lead to higher prices. However, this could be due to absense of full bathrooms?\n",
        "\n",
        "Garage Cars may also be fairly noisy, but it may be that more rural homes have higher amount of cars instead.\n",
        "\n",
        "YearBuilt and YearRemodAdd may both be too far in the past to utilize (right?)\n",
        "____________________________________________\n",
        "\n",
        "MsSubClass is more categorical and shouldn't be unincluded from the dataset due to a numerical correlation assumption.\n",
        "\n",
        "Overall Condition looks more linear.\n",
        "\n",
        "Year-sold won't be very applicable to the model that we are planning on training."
      ],
      "metadata": {
        "id": "RC_gFjbvEEzl"
      }
    },
    {
      "cell_type": "markdown",
      "source": [
        "### Categorical Noisy Feature Analysis"
      ],
      "metadata": {
        "id": "Py3YmhtH5XWd"
      }
    },
    {
      "cell_type": "code",
      "source": [
        "# For categorical features\n",
        "categorical_features = cat_cols\n",
        "targ_corr_cat = {}\n",
        "\n",
        "for feature in categorical_features:\n",
        "  # Group the target variable by the categorical feature\n",
        "  grouped_target = y_train.groupby(data[feature])\n",
        "\n",
        "  # Perform ANOVA\n",
        "  f_statistic, p_value = f_oneway(*[grouped_target.get_group(group) for group in grouped_target.groups])\n",
        "\n",
        "  # Save results\n",
        "  targ_corr_cat[feature] = (f_statistic, p_value)\n",
        "\n",
        "# Observe features and remove using a threshold on p-value\n",
        "noisy_categorical = []\n",
        "for feature in targ_corr_cat:\n",
        "  if targ_corr_cat[feature][1] > 0.01:  # Adjust threshold as needed\n",
        "    print(feature, targ_corr_cat[feature])\n",
        "    noisy_categorical.append(feature)\n",
        "print(noisy_categorical)"
      ],
      "metadata": {
        "colab": {
          "base_uri": "https://localhost:8080/"
        },
        "id": "NsEZjrmW5eae",
        "outputId": "0743176a-2b2f-4b76-c248-03fa1bcc4d4b"
      },
      "execution_count": 261,
      "outputs": [
        {
          "output_type": "stream",
          "name": "stdout",
          "text": [
            "Street (2.4592895583691994, 0.11704860406782483)\n",
            "Utilities (0.29880407484898486, 0.5847167739689381)\n",
            "LandSlope (1.9588170374149438, 0.1413963584114019)\n",
            "Condition2 (2.0738986215227877, 0.043425658360948464)\n",
            "MiscFeature (2.593622339924057, 0.0350036718754261)\n",
            "['Street', 'Utilities', 'LandSlope', 'Condition2', 'MiscFeature']\n"
          ]
        }
      ]
    },
    {
      "cell_type": "code",
      "source": [
        "# for col in categorical_features:\n",
        "#   if col not in noisy_categorical:\n",
        "#     plt.scatter(data[col].astype(str), y_train)\n",
        "#     plt.title(col)\n",
        "#     plt.show()\n",
        "# print(\"-------------------------------------------------------------------\")\n",
        "# for col in noisy_categorical:\n",
        "#   plt.scatter(data[col].astype(str), y_train)\n",
        "#   plt.title(col)\n",
        "#   plt.show()"
      ],
      "metadata": {
        "id": "BJbTYckBTKVm"
      },
      "execution_count": 262,
      "outputs": []
    },
    {
      "cell_type": "markdown",
      "source": [
        "**Analysis of the above**\n",
        "\n",
        "Electrical does have one NaN point that will need to be handled.\n",
        "\n",
        "GarageCond and GarageQual appear to not be indicative of the \"real-world.\"\n",
        "\n",
        "Fence does not appear to be a very good distribution.\n",
        "\n",
        "____________________________________________\n",
        "\n",
        "Land Slope appears to be informative despite being considered \"noise.\""
      ],
      "metadata": {
        "id": "cXmb-HvtTKVw"
      }
    },
    {
      "cell_type": "markdown",
      "source": [
        "### Feature vs Feature Analysis"
      ],
      "metadata": {
        "id": "qulCjgj3K05t"
      }
    },
    {
      "cell_type": "code",
      "source": [
        "# Split numerical from categorical features\n",
        "cat_cols = data.select_dtypes(include=['object']).columns.tolist()\n",
        "num_cols = data.select_dtypes(include=['number']).columns.tolist()\n",
        "\n",
        "# Create copies of lists for tracking\n",
        "cat_cols_copy = cp.deepcopy(cat_cols)\n",
        "num_cols_copy = cp.deepcopy(num_cols)\n",
        "\n",
        "# Dictionaries for tracking results\n",
        "cat_corr = {}\n",
        "num_corr = {}"
      ],
      "metadata": {
        "id": "7aW8_w8Lmciz"
      },
      "execution_count": 263,
      "outputs": []
    },
    {
      "cell_type": "code",
      "source": [
        "# Use chi-squared analysis on categorical features\n",
        "for col1 in cat_cols:\n",
        "  for col2 in cat_cols_copy:\n",
        "\n",
        "    # No need to compare the same feature\n",
        "    if col1 == col2:\n",
        "      continue\n",
        "\n",
        "    # Contingency table\n",
        "    contingency_tbl = pd.crosstab(data[col1], data[col2])\n",
        "\n",
        "    # Ensure table has values (i.e. is not empty)\n",
        "    if contingency_tbl.size == 0:\n",
        "      # Assigning default values\n",
        "      cat_corr[(col1, col2)] = (0, 1)\n",
        "      continue\n",
        "\n",
        "    # Perform chi-squared analysis\n",
        "    chi, p, dof, expected = chi2_contingency(contingency_tbl)\n",
        "\n",
        "    # Save results\n",
        "    cat_corr[(col1, col2)] = (chi, p)\n",
        "\n",
        "  # Remove col from copied list\n",
        "  if col1 in cat_cols_copy:\n",
        "    cat_cols_copy.remove(col1)"
      ],
      "metadata": {
        "id": "6M9GZv1DNrGu"
      },
      "execution_count": 264,
      "outputs": []
    },
    {
      "cell_type": "code",
      "source": [
        "# dependent categorical features\n",
        "for key1,key2 in cat_corr:\n",
        "  if cat_corr[key1,key2][1] == 0.0:\n",
        "    print(key1,key2, cat_corr[key1,key2])"
      ],
      "metadata": {
        "colab": {
          "base_uri": "https://localhost:8080/"
        },
        "id": "-TfT0aK_-fm7",
        "outputId": "8071ae47-1156-4ca8-fade-2c97671cb3bb"
      },
      "execution_count": 265,
      "outputs": [
        {
          "output_type": "stream",
          "name": "stdout",
          "text": [
            "MSZoning Neighborhood (2486.263987999627, 0.0)\n",
            "Neighborhood Exterior2nd (2543.991276041277, 0.0)\n",
            "Exterior1st Exterior2nd (11868.678367195604, 0.0)\n",
            "Foundation BsmtQual (1664.4943148860546, 0.0)\n",
            "BsmtQual BsmtCond (1631.9724267986735, 0.0)\n",
            "BsmtQual BsmtExposure (1596.1099051272488, 0.0)\n",
            "BsmtQual BsmtFinType1 (1960.385537564252, 0.0)\n",
            "BsmtExposure BsmtFinType1 (1608.3712506742656, 0.0)\n",
            "BsmtFinType1 BsmtFinType2 (1775.454707221523, 0.0)\n",
            "GarageType GarageFinish (2068.5422757051683, 0.0)\n",
            "GarageFinish GarageQual (1531.0202997120914, 0.0)\n",
            "GarageFinish GarageCond (1517.9040342335852, 0.0)\n",
            "GarageQual GarageCond (3633.062233479517, 0.0)\n",
            "SaleType SaleCondition (1652.6750772643866, 0.0)\n"
          ]
        }
      ]
    },
    {
      "cell_type": "markdown",
      "source": [
        "**Creating groupings**:\n",
        "\n",
        "SaleType concat with SaleCondition\n",
        "\n",
        "Garage data\n",
        "\n",
        "Basement data\n",
        "\n",
        "Exteriors\n",
        "\n",
        "(Neighborhood gets dropped in feature selection and can be ignored)"
      ],
      "metadata": {
        "id": "5KPUP14qBnJk"
      }
    },
    {
      "cell_type": "code",
      "source": [
        "# Use correlation analysis on numerical features\n",
        "for col1 in num_cols:\n",
        "  for col2 in num_cols_copy:\n",
        "\n",
        "    # No need to compare the same feature\n",
        "    if col1 == col2:\n",
        "      continue\n",
        "\n",
        "    # Calculate correlation\n",
        "    pearson_temp = data[col1].corr(data[col2])\n",
        "    spearman_temp = data[col1].corr(data[col2], method='spearman')\n",
        "\n",
        "    # Save correlation into array\n",
        "    num_corr[(col1, col2)] = (pearson_temp, spearman_temp)\n",
        "\n",
        "  # Remove col from copied list\n",
        "  if col1 in num_cols_copy:\n",
        "    num_cols_copy.remove(col1)"
      ],
      "metadata": {
        "id": "-mqn10XsNrvD"
      },
      "execution_count": 266,
      "outputs": []
    },
    {
      "cell_type": "code",
      "source": [
        "# redundant numerical features\n",
        "for key1,key2 in num_corr:\n",
        "  if num_corr[key1,key2][1] >= 0.85:\n",
        "    print(key1,key2, num_corr[key1,key2])"
      ],
      "metadata": {
        "colab": {
          "base_uri": "https://localhost:8080/"
        },
        "id": "5Ga83X7yCOaE",
        "outputId": "935d2a02-4a10-4f8e-fd71-6746f641a304"
      },
      "execution_count": 267,
      "outputs": [
        {
          "output_type": "stream",
          "name": "stdout",
          "text": [
            "YearBuilt GarageYrBlt (0.825667484174342, 0.8905463872089356)\n",
            "GarageCars GarageArea (0.8824754142814625, 0.8533173766076401)\n"
          ]
        }
      ]
    },
    {
      "cell_type": "markdown",
      "source": [
        "## Feature Selection"
      ],
      "metadata": {
        "id": "OezV6F_A9VVD"
      }
    },
    {
      "cell_type": "code",
      "source": [
        "# Removing the redudant columns (i.e. are not generalizable outside of dataset)\n",
        "redundant_column = ['Neighborhood', 'Condition1', 'Condition2', 'Utilities', 'YearBuilt', 'YearRemodAdd', 'GarageYrBlt', 'YrSold']\n",
        "\n",
        "# Removing highly correlated columns (that only require one combination of features)\n",
        "high_corr_column = ['Exterior1st', 'SaleType', 'GarageCars']\n",
        "\n",
        "column_names_to_remove = redundant_column + noisy_numerical + noisy_categorical + high_corr_column\n",
        "\n",
        "# Assuming 'data' is your pandas DataFrame\n",
        "data_copy = data.copy()  # Create a copy of the dataframe to avoid modifying the original\n",
        "for column_name in column_names_to_remove:\n",
        "  if column_name in data_copy.columns:\n",
        "    data_copy = data_copy.drop(column_name, axis=1)\n",
        "  if column_name in cat_cols:\n",
        "    cat_cols.remove(column_name)\n",
        "  if column_name in num_cols:\n",
        "    num_cols.remove(column_name)\n",
        "\n",
        "print(data_copy.columns)"
      ],
      "metadata": {
        "id": "Oxefmqj4DHfW",
        "colab": {
          "base_uri": "https://localhost:8080/"
        },
        "outputId": "ec9bff58-c271-4419-937c-7764d04212d8"
      },
      "execution_count": 333,
      "outputs": [
        {
          "output_type": "stream",
          "name": "stdout",
          "text": [
            "Index(['MSZoning', 'LotFrontage', 'LotArea', 'Alley', 'LotShape',\n",
            "       'LandContour', 'LotConfig', 'BldgType', 'HouseStyle', 'OverallQual',\n",
            "       'RoofStyle', 'RoofMatl', 'Exterior2nd', 'MasVnrType', 'MasVnrArea',\n",
            "       'ExterQual', 'ExterCond', 'Foundation', 'BsmtQual', 'BsmtCond',\n",
            "       'BsmtExposure', 'BsmtFinType1', 'BsmtFinSF1', 'BsmtFinType2',\n",
            "       'TotalBsmtSF', 'Heating', 'HeatingQC', 'CentralAir', 'Electrical',\n",
            "       '1stFlrSF', '2ndFlrSF', 'LowQualFinSF', 'GrLivArea', 'FullBath',\n",
            "       'HalfBath', 'KitchenQual', 'TotRmsAbvGrd', 'Functional', 'Fireplaces',\n",
            "       'FireplaceQu', 'GarageType', 'GarageFinish', 'GarageArea', 'GarageQual',\n",
            "       'GarageCond', 'PavedDrive', 'WoodDeckSF', 'OpenPorchSF', 'ScreenPorch',\n",
            "       'PoolArea', 'PoolQC', 'Fence', 'SaleCondition', 'SalePrice'],\n",
            "      dtype='object')\n"
          ]
        }
      ]
    },
    {
      "cell_type": "markdown",
      "source": [
        "## Feature Engineering"
      ],
      "metadata": {
        "id": "hqxTmY7l9YZI"
      }
    },
    {
      "cell_type": "markdown",
      "source": [
        "### Numerical Feature Combinations"
      ],
      "metadata": {
        "id": "ft-P68FiCKns"
      }
    },
    {
      "cell_type": "markdown",
      "source": [
        "### Categorical Feature Combinations"
      ],
      "metadata": {
        "id": "biulPGpzCSBt"
      }
    },
    {
      "cell_type": "code",
      "source": [
        "# Combining basement quality features\n",
        "features_to_combine = ['BsmtQual', 'BsmtCond', 'BsmtExposure']\n",
        "mapping = {\"Ex\": 5, \"Gd\": 4, \"TA\": 3, \"Av\": 3, \"Fa\": 2, \"Mn\": 2, \"Po\": 1, \"No\": 1, \"NA\": 0, \"N/A\": 0}\n",
        "data_copy[features_to_combine] = data_copy[features_to_combine].replace(mapping)\n",
        "\n",
        "data_copy[\"BsmtRating\"]= data_copy[features_to_combine].apply(\n",
        "    lambda x: (x['BsmtQual'] + 5 - x[\"BsmtCond\"]) + x[\"BsmtExposure\"],axis=1)\n",
        "data_copy.drop(features_to_combine, axis=1, inplace=True)"
      ],
      "metadata": {
        "id": "3RoIxau2F9l8"
      },
      "execution_count": 334,
      "outputs": []
    },
    {
      "cell_type": "code",
      "source": [
        "# Combining basement finish type features\n",
        "features_to_combine = ['BsmtFinType1', 'BsmtFinType2']\n",
        "mapping = {\"GLQ\": 6, \"ALQ\": 5, \"BLQ\": 4, \"Rec\": 3, \"LwQ\": 2, \"Unf\": 1, \"NA\": 0, \"N/A\": 0}\n",
        "data_copy[features_to_combine] = data_copy[features_to_combine].replace(mapping)\n",
        "\n",
        "data_copy[\"BsmtFinType\"]= data_copy[features_to_combine].apply(\n",
        "    lambda x: (x['BsmtFinType1'] + x[\"BsmtFinType2\"]),axis=1)\n",
        "data_copy.drop(features_to_combine, axis=1, inplace=True)"
      ],
      "metadata": {
        "id": "UQ_uH-YbuBqT"
      },
      "execution_count": 335,
      "outputs": []
    },
    {
      "cell_type": "code",
      "source": [
        "# Combining garage quality features\n",
        "features_to_combine = ['GarageQual', 'GarageCond']\n",
        "mapping = {\"Ex\": 5, \"Gd\": 4, \"TA\": 3, \"Av\": 3, \"Fa\": 2, \"Mn\": 2, \"Po\": 1, \"No\": 1, \"NA\": 0, \"N/A\": 0}\n",
        "data_copy[features_to_combine] = data_copy[features_to_combine].replace(mapping)\n",
        "\n",
        "data_copy[\"GarageRating\"]= data_copy[features_to_combine].apply(\n",
        "    lambda x: (x['GarageQual'] + 5 - x[\"GarageCond\"]),axis=1)\n",
        "data_copy.drop(features_to_combine, axis=1, inplace=True)"
      ],
      "metadata": {
        "id": "yOQyVkOcvNZR"
      },
      "execution_count": 336,
      "outputs": []
    },
    {
      "cell_type": "code",
      "source": [
        "# Combining garage type features\n",
        "features_to_combine = ['GarageType', 'GarageFinish']\n",
        "\n",
        "data_copy[\"GarageInfo\"]= data_copy[features_to_combine].apply(\n",
        "    lambda x: (x['GarageType'] + \"-\" + x[\"GarageFinish\"]),axis=1)\n",
        "data_copy.drop(features_to_combine, axis=1, inplace=True)"
      ],
      "metadata": {
        "id": "fzOy4R61wjIA"
      },
      "execution_count": 337,
      "outputs": []
    },
    {
      "cell_type": "code",
      "source": [
        "# Split numerical and categorical features\n",
        "cat_cols = data_copy.select_dtypes(include=['object']).columns.tolist()\n",
        "num_cols = data_copy.select_dtypes(include=['number']).columns.tolist()\n",
        "\n",
        "# Encode categorical features using LabelEncoder\n",
        "encoded_data = cp.deepcopy(data_copy)\n",
        "encoder_list = {}\n",
        "for col in cat_cols:\n",
        "\n",
        "  # Encoding with rank order\n",
        "  if \"Ex\" in encoded_data[col].unique() or \"TA\" in encoded_data[col].unique() or \"Gd\" in encoded_data[col].unique():\n",
        "    mapping = {\"Ex\": 5, \"Gd\": 4, \"TA\": 3, \"Av\": 3, \"Fa\": 2, \"Mn\": 2, \"Po\": 1, \"No\": 1, \"NA\": 0, \"N/A\": 0}\n",
        "    encoded_data[col] = encoded_data[col].replace(mapping)\n",
        "\n",
        "    # Adding col to encoder_list, using None for easy detection later on\n",
        "    encoder_list[col] = None\n",
        "\n",
        "  # Encoding normally\n",
        "  else:\n",
        "    encoder = LabelEncoder()\n",
        "    encoded_data[col] = encoder.fit_transform(encoded_data[col])\n",
        "    encoder_list[col] = encoder\n",
        "\n",
        "# Testing that the rank mapping was applied\n",
        "# print(encoded_data['GarageCond'].unique())\n",
        "\n",
        "# Testing the label encoding\n",
        "# print(encoded_data['BldgType'].unique())"
      ],
      "metadata": {
        "id": "0QPZ4IFQFCK_"
      },
      "execution_count": 338,
      "outputs": []
    },
    {
      "cell_type": "markdown",
      "source": [
        "## Training Models"
      ],
      "metadata": {
        "id": "uaY3EMip_033"
      }
    },
    {
      "cell_type": "code",
      "source": [
        "# Normalize numerical features\n",
        "scaler = StandardScaler()\n",
        "num_cols_norm = scaler.fit_transform(encoded_data[num_cols])\n",
        "num_df = pd.DataFrame(num_cols_norm, columns=num_cols)\n",
        "\n",
        "# Replace the original numerical columns with normalized ones\n",
        "for col in num_cols:\n",
        "  encoded_data[col] = num_df[col]"
      ],
      "metadata": {
        "id": "TdAgaAOdCwTm"
      },
      "execution_count": 339,
      "outputs": []
    },
    {
      "cell_type": "code",
      "source": [
        "# prompt: train a pca to extract significant features\n",
        "\n",
        "from sklearn.decomposition import PCA\n",
        "from sklearn.preprocessing import StandardScaler\n",
        "\n",
        "# Separate features and target\n",
        "X = encoded_data.drop('SalePrice', axis=1)\n",
        "y = encoded_data['SalePrice']\n",
        "\n",
        "X.fillna(0, inplace=True)\n",
        "\n",
        "\n",
        "# Apply PCA\n",
        "pca = PCA(n_components=\"mle\")  # Keep enough components to explain 95% of variance\n",
        "\n",
        "X_pca = pca.fit_transform(X)\n",
        "\n",
        "\n",
        "# Plot cumulative explained variance\n",
        "plt.plot(np.cumsum(pca.explained_variance_ratio_))\n",
        "plt.xlabel('Number of Components')\n",
        "plt.ylabel('Cumulative Explained Variance')\n",
        "plt.show()"
      ],
      "metadata": {
        "colab": {
          "base_uri": "https://localhost:8080/",
          "height": 449
        },
        "id": "gzVSCAAyGyzM",
        "outputId": "acb8c395-f876-4ebc-a633-ab0812807e09"
      },
      "execution_count": 340,
      "outputs": [
        {
          "output_type": "display_data",
          "data": {
            "text/plain": [
              "<Figure size 640x480 with 1 Axes>"
            ],
            "image/png": "[encoded data removed]"
          },
          "metadata": {}
        }
      ]
    },
    {
      "cell_type": "code",
      "source": [
        "print(\"Number of principal components:\", pca.n_components_)\n",
        "\n",
        "# Calculate feature importance based on absolute values of PCA components\n",
        "feature_importance = np.abs(pca.components_)\n",
        "\n",
        "# Get indices that would sort the features by importance\n",
        "sorted_idx = np.argsort(feature_importance.sum(axis=0))[::-1]\n",
        "\n",
        "# Print feature names in order of importance\n",
        "for i in sorted_idx:\n",
        "    print(X.columns[i])\n"
      ],
      "metadata": {
        "colab": {
          "base_uri": "https://localhost:8080/"
        },
        "id": "jXFLwUdNK9Vw",
        "outputId": "06ce90ed-dbb6-4e57-9bb8-80120f2510a7"
      },
      "execution_count": 341,
      "outputs": [
        {
          "output_type": "stream",
          "name": "stdout",
          "text": [
            "Number of principal components: 47\n",
            "HalfBath\n",
            "BsmtFinType\n",
            "OverallQual\n",
            "BsmtFinSF1\n",
            "FullBath\n",
            "MasVnrArea\n",
            "TotRmsAbvGrd\n",
            "TotalBsmtSF\n",
            "BsmtRating\n",
            "HeatingQC\n",
            "LotArea\n",
            "Functional\n",
            "BldgType\n",
            "WoodDeckSF\n",
            "Fence\n",
            "PoolArea\n",
            "KitchenQual\n",
            "LotFrontage\n",
            "Foundation\n",
            "1stFlrSF\n",
            "GarageArea\n",
            "2ndFlrSF\n",
            "RoofStyle\n",
            "OpenPorchSF\n",
            "MSZoning\n",
            "MasVnrType\n",
            "SaleCondition\n",
            "LowQualFinSF\n",
            "ScreenPorch\n",
            "FireplaceQu\n",
            "ExterQual\n",
            "HouseStyle\n",
            "LandContour\n",
            "GarageRating\n",
            "Fireplaces\n",
            "LotShape\n",
            "RoofMatl\n",
            "Electrical\n",
            "GrLivArea\n",
            "PavedDrive\n",
            "Heating\n",
            "ExterCond\n",
            "LotConfig\n",
            "CentralAir\n",
            "Alley\n",
            "GarageInfo\n",
            "PoolQC\n",
            "Exterior2nd\n"
          ]
        }
      ]
    },
    {
      "cell_type": "code",
      "source": [
        "# prompt: now keep only the features extracted from pca from encoded_data, use the data to train xgboost model\n",
        "\n",
        "import numpy as np\n",
        "import xgboost as xgb\n",
        "from sklearn.model_selection import train_test_split\n",
        "from sklearn.metrics import mean_squared_error,accuracy_score\n",
        "\n",
        "# Assuming X_pca contains the PCA-transformed data and y is your target variable\n",
        "\n",
        "# Split the data into training and testing sets\n",
        "X_train, X_test, y_train, y_test = train_test_split(X_pca, y, test_size=0.2, random_state=42)\n",
        "\n",
        "# Create an XGBoost regressor\n",
        "model = xgb.XGBRegressor(objective='reg:squarederror', n_estimators=100, learning_rate=0.1, random_state=42)\n",
        "\n",
        "# Train the model\n",
        "model.fit(X_train, y_train)\n",
        "\n",
        "# Make predictions on the test set\n",
        "y_pred = model.predict(X_test)\n",
        "\n",
        "# Evaluate the model\n",
        "rmse = np.sqrt(mean_squared_error(y_test, y_pred))\n",
        "print(\"RMSE:\", rmse)"
      ],
      "metadata": {
        "colab": {
          "base_uri": "https://localhost:8080/"
        },
        "id": "A-qgd1veNjor",
        "outputId": "b9b17403-6861-4a84-febd-2b97de67b7a6"
      },
      "execution_count": 342,
      "outputs": [
        {
          "output_type": "stream",
          "name": "stdout",
          "text": [
            "RMSE: 0.47147187242208294\n"
          ]
        }
      ]
    },
    {
      "cell_type": "code",
      "source": [
        "# Implementing linear regression\n",
        "from sklearn.linear_model import LinearRegression\n",
        "\n",
        "# Creating model\n",
        "model = LinearRegression()\n",
        "\n",
        "# Training the model\n",
        "model.fit(X_train, y_train)\n",
        "\n",
        "# Making predictions\n",
        "y_pred = model.predict(X_test)\n",
        "\n",
        "# Evaluating the model\n",
        "rmse = np.sqrt(mean_squared_error(y_test, y_pred))\n",
        "print(\"RMSE:\", rmse)"
      ],
      "metadata": {
        "id": "L9P85Qe6x3Gp",
        "outputId": "140c6f90-7601-4c4d-ff28-03759949e409",
        "colab": {
          "base_uri": "https://localhost:8080/"
        }
      },
      "execution_count": 343,
      "outputs": [
        {
          "output_type": "stream",
          "name": "stdout",
          "text": [
            "RMSE: 0.42797374998244164\n"
          ]
        }
      ]
    }
  ]
}